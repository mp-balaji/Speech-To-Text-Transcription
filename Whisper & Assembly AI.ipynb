{
 "cells": [
  {
   "cell_type": "code",
   "execution_count": 3,
   "id": "5650cf66",
   "metadata": {
    "scrolled": true
   },
   "outputs": [
    {
     "name": "stdout",
     "output_type": "stream",
     "text": [
      "Collecting git+https://github.com/openai/whisper.git\n",
      "  Cloning https://github.com/openai/whisper.git to c:\\users\\admin\\appdata\\local\\temp\\pip-req-build-iqe0qi3l\n",
      "  Resolved https://github.com/openai/whisper.git to commit 7858aa9c08d98f75575035ecd6481f462d66ca27\n",
      "Requirement already satisfied: numpy in c:\\users\\admin\\anaconda3\\lib\\site-packages (from openai-whisper==20230124) (1.20.3)\n",
      "Collecting torch\n",
      "  Downloading torch-1.13.1-cp39-cp39-win_amd64.whl (162.5 MB)\n",
      "Requirement already satisfied: tqdm in c:\\users\\admin\\anaconda3\\lib\\site-packages (from openai-whisper==20230124) (4.62.3)\n",
      "Requirement already satisfied: more-itertools in c:\\users\\admin\\anaconda3\\lib\\site-packages (from openai-whisper==20230124) (8.10.0)\n",
      "Collecting transformers>=4.19.0\n",
      "  Using cached transformers-4.26.0-py3-none-any.whl (6.3 MB)\n",
      "Collecting ffmpeg-python==0.2.0\n",
      "  Using cached ffmpeg_python-0.2.0-py3-none-any.whl (25 kB)\n",
      "Requirement already satisfied: future in c:\\users\\admin\\anaconda3\\lib\\site-packages (from ffmpeg-python==0.2.0->openai-whisper==20230124) (0.18.2)\n",
      "Collecting huggingface-hub<1.0,>=0.11.0\n",
      "  Using cached huggingface_hub-0.12.0-py3-none-any.whl (190 kB)\n",
      "Requirement already satisfied: filelock in c:\\users\\admin\\anaconda3\\lib\\site-packages (from transformers>=4.19.0->openai-whisper==20230124) (3.3.1)\n",
      "Requirement already satisfied: packaging>=20.0 in c:\\users\\admin\\anaconda3\\lib\\site-packages (from transformers>=4.19.0->openai-whisper==20230124) (21.0)\n",
      "Requirement already satisfied: pyyaml>=5.1 in c:\\users\\admin\\anaconda3\\lib\\site-packages (from transformers>=4.19.0->openai-whisper==20230124) (6.0)\n",
      "Requirement already satisfied: regex!=2019.12.17 in c:\\users\\admin\\anaconda3\\lib\\site-packages (from transformers>=4.19.0->openai-whisper==20230124) (2021.8.3)\n",
      "Requirement already satisfied: requests in c:\\users\\admin\\anaconda3\\lib\\site-packages (from transformers>=4.19.0->openai-whisper==20230124) (2.26.0)\n",
      "Note: you may need to restart the kernel to use updated packages.Collecting tokenizers!=0.11.3,<0.14,>=0.11.1\n",
      "  Downloading tokenizers-0.13.2-cp39-cp39-win_amd64.whl (3.3 MB)\n",
      "Requirement already satisfied: typing-extensions>=3.7.4.3 in c:\\users\\admin\\anaconda3\\lib\\site-packages (from huggingface-hub<1.0,>=0.11.0->transformers>=4.19.0->openai-whisper==20230124) (4.4.0)\n",
      "Requirement already satisfied: pyparsing>=2.0.2 in c:\\users\\admin\\anaconda3\\lib\\site-packages (from packaging>=20.0->transformers>=4.19.0->openai-whisper==20230124) (3.0.4)\n",
      "Requirement already satisfied: colorama in c:\\users\\admin\\anaconda3\\lib\\site-packages (from tqdm->openai-whisper==20230124) (0.4.4)\n",
      "Requirement already satisfied: charset-normalizer~=2.0.0 in c:\\users\\admin\\anaconda3\\lib\\site-packages (from requests->transformers>=4.19.0->openai-whisper==20230124) (2.0.4)\n",
      "Requirement already satisfied: certifi>=2017.4.17 in c:\\users\\admin\\anaconda3\\lib\\site-packages (from requests->transformers>=4.19.0->openai-whisper==20230124) (2022.9.14)\n",
      "Requirement already satisfied: idna<4,>=2.5 in c:\\users\\admin\\anaconda3\\lib\\site-packages (from requests->transformers>=4.19.0->openai-whisper==20230124) (3.2)\n",
      "Requirement already satisfied: urllib3<1.27,>=1.21.1 in c:\\users\\admin\\anaconda3\\lib\\site-packages (from requests->transformers>=4.19.0->openai-whisper==20230124) (1.26.7)\n",
      "Building wheels for collected packages: openai-whisper\n",
      "  Building wheel for openai-whisper (setup.py): started\n",
      "  Building wheel for openai-whisper (setup.py): finished with status 'done'\n",
      "  Created wheel for openai-whisper: filename=openai_whisper-20230124-py3-none-any.whl size=1191302 sha256=99ecdb48b60bcb93a9f1f83cfabfc2a8df499054a1a5bf7bd4d46f4115f541b5\n",
      "  Stored in directory: C:\\Users\\Admin\\AppData\\Local\\Temp\\pip-ephem-wheel-cache-xim6gc2n\\wheels\\fe\\03\\29\\e7919208d11b4ab32972cb448bb84a9a675d92cd52c9a48341\n",
      "Successfully built openai-whisper\n",
      "Installing collected packages: tokenizers, huggingface-hub, transformers, torch, ffmpeg-python, openai-whisper\n",
      "Successfully installed ffmpeg-python-0.2.0 huggingface-hub-0.12.0 openai-whisper-20230124 tokenizers-0.13.2 torch-1.13.1 transformers-4.26.0\n",
      "\n"
     ]
    },
    {
     "name": "stderr",
     "output_type": "stream",
     "text": [
      "  Running command git clone -q https://github.com/openai/whisper.git 'C:\\Users\\Admin\\AppData\\Local\\Temp\\pip-req-build-iqe0qi3l'\n"
     ]
    }
   ],
   "source": [
    "pip install git+https://github.com/openai/whisper.git"
   ]
  },
  {
   "cell_type": "code",
   "execution_count": 4,
   "id": "3823e273",
   "metadata": {
    "scrolled": true
   },
   "outputs": [
    {
     "name": "stderr",
     "output_type": "stream",
     "text": [
      "100%|███████████████████████████████████████| 139M/139M [00:12<00:00, 11.7MiB/s]\n",
      "C:\\Users\\Admin\\anaconda3\\lib\\site-packages\\whisper\\transcribe.py:79: UserWarning: FP16 is not supported on CPU; using FP32 instead\n",
      "  warnings.warn(\"FP16 is not supported on CPU; using FP32 instead\")\n"
     ]
    },
    {
     "name": "stdout",
     "output_type": "stream",
     "text": [
      " Okay. So we'll just give it another minute. Hi, Balaji. Hi, Dr. How are you? I'm doing good. How are you? Glad to have you on the call. Yeah, I like almost forgot. Thanks for the thing. Even I. I was searching for the link. I'm glad you made it. We could get started and then whoever joins joins because I'm doing the recording again. So I'm going to share my screen and I guess we'll get started. Can you guys see the screen? Yeah. Yeah. So we'll start with this. This is where we got with the. The articles. We've got a good amount of basic articles to use here. And we've got here. I put some notes for some of the articles that I got just generally what. What we would need that paper for, you know, if we're referencing the eye gazing or brain imaging or whatever. The weights here also which is going to help us to decide when to access these articles. So we'll say that this phase is now done. This is our dumping phase and the dumping phase is. Getting the contents together in one place. And now what we're going to do is in two parts. First part I'm going to show you here on the screen. This is going to be like the template document that we'll start working with. I haven't shared this with anyone yet because I'm going to break each section up and we're going to give it to different people. So we'll start, not with, there's going to be all of these, you know, statements and declarations. We'll fill that out later. So what we've got here is an outline of the beginning of the structure of our paper. Somebody will be in charge of abbreviation. Somebody else will be in charge of, you know, a different section. So today what I'm hoping to do is to. Based on whoever is here today to become sort of a sub leader of a different section. For example, somebody will be a sub leader for the data section and that means you and others under you will be communicating with the data collection team and the modeling team. So I'm going to get information that will then complete this section things about the repository, the format of the data was it in CSV was it in multiple columns, what were the categories, what were the features, etc. I will break this particular section up and give it to whoever volunteers under hypothesis objectives and methodology that will be another team, the exploratory data analysis and feature engineering. This person will be communicating with the guys who are running the models, the ML models. And your job is going to be, you know, at the end of each line of code, there's a description of what the output means and you'll be collecting all of that output and then adding it here to to your section. Same with the results and the same with the analysis. So for the for the models and analyses. So on this part will be communicating with probably Verona to get the baseline model, what was the methodology and the results will summarize that in a few lines and then other models and results. Same with the statistical analysis and somebody else will be in charge of the discussion, which is a summary of our results. Learning points, the person who does the learning points is going to communicate with all sub teams and you're going to ask the subtask leaders, what limitations did you have, how did you overcome it, what do you suggest for the next, the next group of people that do this. So I think we need four or five leaders sub leaders to take these things on. Once we do that, I will work with each subgroup. So for example, for the data subgroup to fill out these sections. Okay, so where did we get our data source from WWW, whatever, who's the people behind it will say it's, you know, the NIH database. So we'll sort of start filling all of this up, but as bullet points. And then with the literature review that we gathered from here, I will start tagging in probably a star in a yellow highlight something like this and say lit review and it'll be for a particular point. So if we're talking about CNN models, okay, or other models, so we'll have a literature review here and we'll reference all the articles we found analysis analysis of models. Whether it be a systematic review or an actual study, and then we'll start fattening up this document. So I'm going to break this document up, but at this stage, I'll just pause my stop sharing the screen. At this stage, I'm just going to ask basically whoever's here, if anyone wants to volunteer for one or any other section. So let's start with the, we'll say introduction abstract and conclusion will be one team. Fair because it's a lot of the same things. I'll put that here in the chat intro abstract conclusion is one sub team. Methodology. Then discussion results. And then we have model modeling and data. Okay, so it's in the chat. Does anyone want to vote or volunteer to take on lead in any particular section. Hi, anyone, can you guys hear me? Yeah, we can show you. Okay, yes, we do. So who wants to anyone want to take lead? I'll be with you, by the way, I'll be doing the work alongside you each one group. It won't be like you're the leader and everything's on you. I'll be with you each group each stage each phase each sentence. But it's just so that we can start allocating which data goes to which section. That I can work with the modeling part. Maybe for now, I can just get the basic information. Along the way, we can gather more people into the research as well. Yep, let's let's make biology is in charge of modeling then. Yeah, like I won't be able to like a little contribute, but as long as like I have the right time like I I'll just keep in touch with whatever is happening with the modeling team and then. Give the information as we progress fine, so what will happen is I'll be with you okay, and yeah, yeah, modeling team and then we'll ask within the group. So I'm going to ask you to type in our group after who wants to support you and then. You can also delegate some tasks to other people in the group. Who you know will be behind you, but like I said, I'll be with you I'll I'll take on the primary and will support each other. Yeah, sure. Cool, so, but I do modeling section. Gary, I'm not anyone. Want to take on another section. It's not difficult work you guys it's very short term work your these sub sections we should be finished by I'm aiming for Saturday. So it's not you know detailed commitment and for the rest of the year or something. So I'll take them to the data part. Perfect, Shasha. Thank you so much. So we'll put you down for data. So you're going to lead basically a small sub team anyone else who wants to join the research aspect in terms of the data part. We'll kind of be under your guidance, but like I said, I'll be with you. Sure. Okay, amazing. Anyone for discussion result. Anyone there. Okay, methodology. No one. In so far as nobody volunteers, I'll take it on. And I'll mention now in our group, if there's anyone else wants to take that on. This is your chance to sort of take the lead. If you want. No cool. Okay, finished. So we'll keep it at Bellagy for modeling section. Shasha, I'm for data. I'll take on the rest and we'll do. You know, an option in the group for if anyone else wants to take on the other parts. Cool. Cool. All right. So I'm going to take the lead on discussion points. And I'll just take on those those that template that I was working on. I'm going to split it up into. Three papers now into three sections, Bellagy, you'll take on just the modeling part and Shasha and you'll start filling out the data part with me. Perfect. Cool. And like I said, you guys as the two sub leaders feel free to. To take the lead on discussion points in your subsection with other members of the group. You know, is interested in one of these parts and you can delegate tasks to them. Cool, cool. Alrighty. So I'll leave it at that now and you can expect for me then in the group. The various subsections. I'll share now the documents, the links and for us to start filling out. And that's it. I think we're good. Anyone have any questions or comments, suggestions, anything. Everyone's sleepy because it's Tuesday and midweek. All right. So I guess I'll end the call there and I'll set the next call for Saturday around the same time if it's okay. And we'll check in and see what progress we've made between now and Saturday. If it's cool. I know one question. Yes, please go ahead. I'm having trouble following the works happening. And so we are basically trying to summarize all the research papers, right? No, we're not summarizing anything. Those research papers in the table are going to be used as our go to. So that template that I showed you as we start filling out different sections. For example, in the baseline model, right? That was one of the subheadings. So, yeah, baseline model. If the baseline model used, you know, an A and N, let's say it used a recurrent neural network. So in that particular section, you would find the articles about recurrent neural networks that were used for autism diagnosis and just extract those key sentences that apply to that one part of our paper. But we don't we're not summarizing all the papers at all. We're just going to take from the papers. What we want to make our paper to suit the shape of our paper. Does that make sense? Yes. Thank you. And, oh, and I need, we need some gmails. So I need Bellagy and shashank's gmail addresses for short to give you admin access to that template. If you don't mind sending that to me, please. And anyone else who wants to take on, if you want to take on the methodology. Go, go, you don't want to try the methodology sections going to be pretty straightforward and easy. It's probably only going to be like a page long. Thanks for shank. I got it too scared. No, okay, no problem. It's all good. Well, I'll be with you. What if I did it alongside you, but this could be your chance to be a subtask leader and, you know, check how confident you can be. Denara, yeah. What, which part do you want to take on methodology? Sure. Hi. Sweet. Amazing. Cool. So that means we're going to get everyone. I'll just put it as a note. And I'll do it with you. Yeah. Excellent. I need your gmail as well then. Anyone who's going to be a subtasked just to give you admin sweet. What else do we have? So we have modeling data methodology intra abstract conclusion. I got it. So discussion results. Discussion results. We can leave it for now. I mean, we're not, we didn't arrive there. Malita, maybe. Lemya, you guys want to try. Shivan. Yeah, I can help with the work with discussion and conclusion. And the result section. So let's do it. Lemya and Malita are going to take on discussion results because there's going to be a lot of overlap. Okay, sure. Is that cool, Lemya? Sure. Sweet. Amazing. So discussion results. And I need your gmails, please. There we go. I can drop it here. Yeah, anywhere. Sure. Okay. I'll save this and then. So whoever sends me the gmail, I'm going to give you admin access to the template. You'll I'll maybe color coded or something so you know you can go to your relevant section. And we'll start filling it out together. I'll maybe write a prompt like add something here on this and then you can go to the Excel sheet. And you can go through this file. So that's a good thing. From an article. Skim through the article and take out what we need to fatten up that part of our template. Does that sound like a plan? So I think we could. Yeah. Do for Saturday, how about we just make it so by Saturday we explore and see where we got because it's you know new waters So you'll have a lot of exploration and you'll find a lot of things and interesting and should we include it should we not that's part of the fun So let's just do exploration and start tagging each other in that document for now until Saturday Kiroki Noted Well, and one last thing for the data and the modeling so shashank and belaji we're gonna have to get you in touch with the sub task leaders for the modeling team and for the data team You know in the general channel So I'll do an intro for you guys now and just make sure they add you to that team So you'll add as like an auditor, you know, you'll join that channel But to get an idea of what's going on and you ultimately need to take every all of their output and throw it into our document Yes, sure excellent great. So we have some g-mailing we have some Templating and we have some communicating to do with other teams between now and Saturday Oh, and it says rabbius will help with methodology. I just saw that so we'll do denara and rabbius in methodology I Think you guys could probably complete it just the two of you you might need anyone else But cool all right any other questions or we we call it a night All right cool I mean any questions Yeah, yeah I read little bit a little bit late. I was stuck in the traffic jam. So just could you just give quick Summarize of Today's a meeting so everybody will be on the same line I'll just reopen this At the beginning just in case anyone missed it. Right. So we had this This is the Excel and we've got a number of articles now and we've got the links plus The sort of notes so we know when the people who are doing the modeling section for example are likely going to access these papers Right because there's notes about modeling If if we end up using a data set that has imaging or eye gazing we're gonna likely need these articles So we're gonna use this as our go-to reference Bucket, you know to fill things up as needed and we're gonna fill it out in this template here So this is just a skeleton at the moment of the core components that should be in our paper, right the headings And some subheading so our job is gonna be to start filling this document out and Whoever is doing data will make a note about the source of the data the transparency the format the features Etc. At this stage. We're gonna fill it out in bullet points based on Data information we get either from other teams or from our own research Whoever is doing methodology Engineering feature analysis will get all this information from other teams and then combine it With what's been published out there as a citation support and that's it. We'll start filling this out as as is And that's Is that cool? Okay, excellent. So we've got our sub team Our accomplishments for today. We've completed our excel sheet We've delegated our sub team leaders. We're planning between now and Saturday to start Filling out that document and making the connections to the other groups So that we can be on the same page Okay Okay Cool, so have a good day if there's no other questions and we'll be In touch in the group and again feel free to reach out to me anytime for anything Okay, thank you, Dr. Shai. All right. Have a lovely day everybody Happy end of January Yeah Like everyone. Bye\n"
     ]
    }
   ],
   "source": [
    "import whisper\n",
    "\n",
    "model = whisper.load_model(\"base\")\n",
    "result = model.transcribe(\"Research_Team_Meeting_2_Jan31.wav\")\n",
    "print(result[\"text\"])"
   ]
  },
  {
   "cell_type": "code",
   "execution_count": 1,
   "id": "38458fcd",
   "metadata": {},
   "outputs": [],
   "source": [
    "import pyaudio\n",
    "import wave"
   ]
  },
  {
   "cell_type": "code",
   "execution_count": 6,
   "id": "08d96ced",
   "metadata": {},
   "outputs": [
    {
     "name": "stdout",
     "output_type": "stream",
     "text": [
      "Collecting PyAudio\n",
      "  Downloading PyAudio-0.2.13-cp39-cp39-win_amd64.whl (164 kB)\n",
      "Installing collected packages: PyAudio\n",
      "Successfully installed PyAudio-0.2.13\n",
      "Note: you may need to restart the kernel to use updated packages.\n"
     ]
    }
   ],
   "source": [
    "pip install PyAudio"
   ]
  },
  {
   "cell_type": "code",
   "execution_count": 3,
   "id": "22477be5",
   "metadata": {},
   "outputs": [
    {
     "ename": "AttributeError",
     "evalue": "module 'wave' has no attribute '__version__'",
     "output_type": "error",
     "traceback": [
      "\u001b[1;31m---------------------------------------------------------------------------\u001b[0m",
      "\u001b[1;31mAttributeError\u001b[0m                            Traceback (most recent call last)",
      "\u001b[1;32m~\\AppData\\Local\\Temp/ipykernel_2228/3030492626.py\u001b[0m in \u001b[0;36m<module>\u001b[1;34m\u001b[0m\n\u001b[0;32m      1\u001b[0m \u001b[1;32mimport\u001b[0m \u001b[0mpyaudio\u001b[0m\u001b[1;33m\u001b[0m\u001b[1;33m\u001b[0m\u001b[0m\n\u001b[0;32m      2\u001b[0m \u001b[1;33m\u001b[0m\u001b[0m\n\u001b[1;32m----> 3\u001b[1;33m \u001b[0mprint\u001b[0m\u001b[1;33m(\u001b[0m\u001b[0mwave\u001b[0m\u001b[1;33m.\u001b[0m\u001b[0m__version__\u001b[0m\u001b[1;33m)\u001b[0m\u001b[1;33m\u001b[0m\u001b[1;33m\u001b[0m\u001b[0m\n\u001b[0m",
      "\u001b[1;31mAttributeError\u001b[0m: module 'wave' has no attribute '__version__'"
     ]
    }
   ],
   "source": [
    "import pyaudio\n",
    "\n",
    "print(wave.__version__)\n"
   ]
  },
  {
   "cell_type": "code",
   "execution_count": 1,
   "id": "a76ff64c",
   "metadata": {},
   "outputs": [],
   "source": [
    "import tkinter"
   ]
  },
  {
   "cell_type": "code",
   "execution_count": 2,
   "id": "4025d316",
   "metadata": {},
   "outputs": [
    {
     "name": "stdout",
     "output_type": "stream",
     "text": [
      "Collecting sounddevice\n",
      "  Downloading sounddevice-0.4.5-py3-none-win_amd64.whl (195 kB)\n",
      "Requirement already satisfied: CFFI>=1.0 in c:\\users\\admin\\anaconda3\\lib\\site-packages (from sounddevice) (1.14.6)\n",
      "Requirement already satisfied: pycparser in c:\\users\\admin\\anaconda3\\lib\\site-packages (from CFFI>=1.0->sounddevice) (2.20)\n",
      "Installing collected packages: sounddevice\n",
      "Successfully installed sounddevice-0.4.5\n",
      "Note: you may need to restart the kernel to use updated packages.\n"
     ]
    }
   ],
   "source": [
    "pip install sounddevice"
   ]
  },
  {
   "cell_type": "code",
   "execution_count": 3,
   "id": "694b6582",
   "metadata": {},
   "outputs": [
    {
     "name": "stdout",
     "output_type": "stream",
     "text": [
      "Collecting soundfile\n",
      "  Downloading soundfile-0.11.0-py2.py3-none-win_amd64.whl (1.0 MB)\n",
      "Requirement already satisfied: cffi>=1.0 in c:\\users\\admin\\anaconda3\\lib\\site-packages (from soundfile) (1.14.6)\n",
      "Requirement already satisfied: pycparser in c:\\users\\admin\\anaconda3\\lib\\site-packages (from cffi>=1.0->soundfile) (2.20)\n",
      "Installing collected packages: soundfile\n",
      "Successfully installed soundfile-0.11.0\n",
      "Note: you may need to restart the kernel to use updated packages.\n"
     ]
    }
   ],
   "source": [
    "pip install soundfile"
   ]
  },
  {
   "cell_type": "markdown",
   "id": "b7248eee",
   "metadata": {},
   "source": [
    "# To record an audio file"
   ]
  },
  {
   "cell_type": "code",
   "execution_count": null,
   "id": "a0c6b647",
   "metadata": {},
   "outputs": [],
   "source": [
    "#ProjectGurukul's Voice recorder\n",
    "#Import necessary modules\n",
    "import sounddevice as sd\n",
    "from tkinter import *\n",
    "import queue\n",
    "import soundfile as sf\n",
    "import threading\n",
    "from tkinter import messagebox\n",
    "\n",
    "\n",
    "#Define the user interface\n",
    "voice_rec = Tk()\n",
    "voice_rec.geometry(\"360x200\")\n",
    "voice_rec.title(\"ProjectGurukul's Voice Recorder\")\n",
    "voice_rec.config(bg=\"#107dc2\")\n",
    "\n",
    "#Create a queue to contain the audio data\n",
    "q = queue.Queue()\n",
    "#Declare variables and initialise them\n",
    "recording = False\n",
    "file_exists = False    \n",
    "\n",
    "#Fit data into queue\n",
    "def callback(indata, frames, time, status):\n",
    "    q.put(indata.copy())\n",
    "\n",
    "#Functions to play, stop and record audio\n",
    "#The recording is done as a thread to prevent it being the main process\n",
    "def threading_rec(x):\n",
    "    if x == 1:\n",
    "        #If recording is selected, then the thread is activated\n",
    "        t1=threading.Thread(target= record_audio)\n",
    "        t1.start()\n",
    "    elif x == 2:\n",
    "        #To stop, set the flag to false\n",
    "        global recording\n",
    "        recording = False\n",
    "        messagebox.showinfo(message=\"Recording finished\")\n",
    "    elif x == 3:\n",
    "        #To play a recording, it must exist.\n",
    "        if file_exists:\n",
    "            #Read the recording if it exists and play it\n",
    "            data, fs = sf.read(\"trial.wav\", dtype='float32') \n",
    "            sd.play(data,fs)\n",
    "            sd.wait()\n",
    "        else:\n",
    "            #Display and error if none is found\n",
    "            messagebox.showerror(message=\"Record something to play\")\n",
    "\n",
    "#Recording function\n",
    "def record_audio():\n",
    "    #Declare global variables    \n",
    "    global recording \n",
    "    #Set to True to record\n",
    "    recording= True   \n",
    "    global file_exists \n",
    "    #Create a file to save the audio\n",
    "    messagebox.showinfo(message=\"Recording Audio. Speak into the mic\")\n",
    "    with sf.SoundFile(\"trial.wav\", mode='w', samplerate=44100,\n",
    "                        channels=2) as file:\n",
    "    #Create an input stream to record audio without a preset time\n",
    "            with sd.InputStream(samplerate=44100, channels=2, callback=callback):\n",
    "                while recording == True:\n",
    "                    #Set the variable to True to allow playing the audio later\n",
    "                    file_exists =True\n",
    "                    #write into file\n",
    "                    file.write(q.get())\n",
    "\n",
    "    \n",
    "#Label to display app title\n",
    "title_lbl  = Label(voice_rec, text=\"ProjectGurukul's Voice Recorder\", bg=\"#107dc2\").grid(row=0, column=0, columnspan=3)\n",
    "\n",
    "#Button to record audio\n",
    "record_btn = Button(voice_rec, text=\"Record Audio\", command=lambda m=1:threading_rec(m))\n",
    "#Stop button\n",
    "stop_btn = Button(voice_rec, text=\"Stop Recording\", command=lambda m=2:threading_rec(m))\n",
    "#Play button\n",
    "play_btn = Button(voice_rec, text=\"Play Recording\", command=lambda m=3:threading_rec(m))\n",
    "\n",
    "#Position buttons\n",
    "record_btn.grid(row=1,column=1)\n",
    "stop_btn.grid(row=1,column=0)\n",
    "play_btn.grid(row=1,column=2)\n",
    "voice_rec.mainloop()\n",
    "\n"
   ]
  },
  {
   "cell_type": "markdown",
   "id": "39a65697",
   "metadata": {},
   "source": [
    "# Upload the Audio File If Stored Locally"
   ]
  },
  {
   "cell_type": "code",
   "execution_count": 37,
   "id": "8e871de7",
   "metadata": {},
   "outputs": [
    {
     "name": "stdout",
     "output_type": "stream",
     "text": [
      "{'upload_url': 'https://cdn.assemblyai.com/upload/d5c3f9ba-5829-4483-a5d8-2668f00bcd1a'}\n"
     ]
    }
   ],
   "source": [
    "\n",
    "import requests\n",
    "filename = \"trial.wav\" # Give an url if its stored in cloud\n",
    "def read_file(filename, chunk_size=5242880):\n",
    "    with open(filename, 'rb') as _file:\n",
    "        while True:\n",
    "            data = _file.read(chunk_size)\n",
    "            if not data:\n",
    "                break\n",
    "            yield data\n",
    "\n",
    "headers = {'authorization': \"1de1f4403c14482f82b6ef7e4217c90c\"}\n",
    "response = requests.post('https://api.assemblyai.com/v2/upload',\n",
    "                        headers=headers,\n",
    "                        data=read_file(filename))\n",
    "\n",
    "print(response.json())"
   ]
  },
  {
   "cell_type": "markdown",
   "id": "86423cda",
   "metadata": {},
   "source": [
    "# Upload the Audio File If Stored In Cloud"
   ]
  },
  {
   "cell_type": "code",
   "execution_count": null,
   "id": "0872ea65",
   "metadata": {},
   "outputs": [],
   "source": [
    "import requests\n",
    "filename = 'Put S3 URL Here'\n",
    "\n",
    "headers = {'authorization': \"1de1f4403c14482f82b6ef7e4217c90c\"}\n",
    "response = requests.post('https://api.assemblyai.com/v2/upload',\n",
    "                        headers=headers,\n",
    "                        data=filename\n",
    "\n",
    "print(response.json())"
   ]
  },
  {
   "cell_type": "markdown",
   "id": "a5389416",
   "metadata": {},
   "source": [
    "# Store the uploaded URL"
   ]
  },
  {
   "cell_type": "code",
   "execution_count": 38,
   "id": "f9f4b8a0",
   "metadata": {},
   "outputs": [],
   "source": [
    "audio_url = response.json()['upload_url']"
   ]
  },
  {
   "cell_type": "markdown",
   "id": "5cf983a8",
   "metadata": {},
   "source": [
    "# Send the upload file for Transcription & Sentiment Analysis"
   ]
  },
  {
   "cell_type": "code",
   "execution_count": 39,
   "id": "0fa7582b",
   "metadata": {},
   "outputs": [
    {
     "name": "stdout",
     "output_type": "stream",
     "text": [
      "{'id': 'rd7kfekcpn-3db3-4328-8bdf-e039f4311b24', 'language_model': 'assemblyai_default', 'acoustic_model': 'assemblyai_default', 'language_code': 'en_us', 'status': 'queued', 'audio_url': 'https://cdn.assemblyai.com/upload/d5c3f9ba-5829-4483-a5d8-2668f00bcd1a', 'text': None, 'words': None, 'utterances': None, 'confidence': None, 'audio_duration': None, 'punctuate': True, 'format_text': True, 'dual_channel': None, 'webhook_url': None, 'webhook_status_code': None, 'webhook_auth': False, 'webhook_auth_header_name': None, 'speed_boost': False, 'auto_highlights_result': None, 'auto_highlights': False, 'audio_start_from': None, 'audio_end_at': None, 'word_boost': [], 'boost_param': None, 'filter_profanity': False, 'redact_pii': False, 'redact_pii_audio': False, 'redact_pii_audio_quality': None, 'redact_pii_policies': None, 'redact_pii_sub': None, 'speaker_labels': False, 'content_safety': False, 'iab_categories': False, 'content_safety_labels': {}, 'iab_categories_result': {}, 'language_detection': False, 'custom_spelling': None, 'cluster_id': None, 'throttled': None, 'auto_chapters': False, 'summarization': False, 'summary_type': None, 'summary_model': None, 'disfluencies': False, 'sentiment_analysis': 'True', 'sentiment_analysis_results': None, 'chapters': None, 'entity_detection': False, 'entities': None}\n"
     ]
    }
   ],
   "source": [
    "import requests\n",
    "endpoint = \"https://api.assemblyai.com/v2/transcript\"\n",
    "json = {\n",
    "    \"audio_url\": audio_url,\n",
    "    \"sentiment_analysis\": 'True'\n",
    "}\n",
    "headers = {\n",
    "    \"authorization\": \"1de1f4403c14482f82b6ef7e4217c90c\",\n",
    "}\n",
    "response = requests.post(endpoint, json=json, headers=headers)\n",
    "print(response.json())"
   ]
  },
  {
   "cell_type": "markdown",
   "id": "bc464e6a",
   "metadata": {},
   "source": [
    "# Check the status of the submitted request for Transcription & Sentiment Analysis"
   ]
  },
  {
   "cell_type": "code",
   "execution_count": 42,
   "id": "38546d93",
   "metadata": {},
   "outputs": [
    {
     "name": "stdout",
     "output_type": "stream",
     "text": [
      "{'id': 'rd7kfekcpn-3db3-4328-8bdf-e039f4311b24', 'language_model': 'assemblyai_default', 'acoustic_model': 'assemblyai_default', 'language_code': 'en_us', 'status': 'completed', 'audio_url': 'https://cdn.assemblyai.com/upload/d5c3f9ba-5829-4483-a5d8-2668f00bcd1a', 'text': 'So this product is actually very good because, like, it counters to the needs of the customers.', 'words': [{'text': 'So', 'start': 1050, 'end': 1358, 'confidence': 0.81158, 'speaker': None}, {'text': 'this', 'start': 1444, 'end': 1742, 'confidence': 0.99357, 'speaker': None}, {'text': 'product', 'start': 1796, 'end': 2110, 'confidence': 0.99449, 'speaker': None}, {'text': 'is', 'start': 2180, 'end': 2414, 'confidence': 0.97798, 'speaker': None}, {'text': 'actually', 'start': 2452, 'end': 2798, 'confidence': 0.99333, 'speaker': None}, {'text': 'very', 'start': 2884, 'end': 3182, 'confidence': 0.99582, 'speaker': None}, {'text': 'good', 'start': 3236, 'end': 3742, 'confidence': 0.99896, 'speaker': None}, {'text': 'because,', 'start': 3876, 'end': 4270, 'confidence': 0.9959, 'speaker': None}, {'text': 'like,', 'start': 4340, 'end': 4574, 'confidence': 0.43692, 'speaker': None}, {'text': 'it', 'start': 4612, 'end': 4862, 'confidence': 0.94229, 'speaker': None}, {'text': 'counters', 'start': 4916, 'end': 5306, 'confidence': 0.61744, 'speaker': None}, {'text': 'to', 'start': 5338, 'end': 5486, 'confidence': 0.99, 'speaker': None}, {'text': 'the', 'start': 5508, 'end': 5598, 'confidence': 0.99, 'speaker': None}, {'text': 'needs', 'start': 5604, 'end': 5822, 'confidence': 0.98344, 'speaker': None}, {'text': 'of', 'start': 5876, 'end': 6046, 'confidence': 1.0, 'speaker': None}, {'text': 'the', 'start': 6068, 'end': 6206, 'confidence': 0.98, 'speaker': None}, {'text': 'customers.', 'start': 6228, 'end': 6300, 'confidence': 0.9402, 'speaker': None}], 'utterances': None, 'confidence': 0.920112941176471, 'audio_duration': 8, 'punctuate': True, 'format_text': True, 'dual_channel': None, 'webhook_url': None, 'webhook_status_code': None, 'webhook_auth': False, 'webhook_auth_header_name': None, 'speed_boost': False, 'auto_highlights_result': None, 'auto_highlights': False, 'audio_start_from': None, 'audio_end_at': None, 'word_boost': [], 'boost_param': None, 'filter_profanity': False, 'redact_pii': False, 'redact_pii_audio': False, 'redact_pii_audio_quality': None, 'redact_pii_policies': None, 'redact_pii_sub': None, 'speaker_labels': False, 'content_safety': False, 'iab_categories': False, 'content_safety_labels': {'status': 'unavailable', 'results': [], 'summary': {}}, 'iab_categories_result': {'status': 'unavailable', 'results': [], 'summary': {}}, 'language_detection': False, 'custom_spelling': None, 'cluster_id': None, 'throttled': None, 'auto_chapters': False, 'summarization': False, 'summary_type': None, 'summary_model': None, 'disfluencies': False, 'sentiment_analysis': 'True', 'chapters': None, 'sentiment_analysis_results': [{'text': 'So this product is actually very good because, like, it counters to the needs of the customers.', 'start': 1050, 'end': 6300, 'sentiment': 'POSITIVE', 'confidence': 0.9723249673843384, 'speaker': None}], 'entity_detection': False, 'entities': None, 'summary': None}\n"
     ]
    }
   ],
   "source": [
    "import requests\n",
    "endpoint = \"https://api.assemblyai.com/v2/transcript/\"+response.json()['id']\n",
    "headers = {\n",
    "    \"authorization\": \"1de1f4403c14482f82b6ef7e4217c90c\",\n",
    "}\n",
    "response = requests.get(endpoint, headers=headers)\n",
    "print(response.json())"
   ]
  },
  {
   "cell_type": "markdown",
   "id": "7e6e3f9a",
   "metadata": {},
   "source": [
    "# Checking the response"
   ]
  },
  {
   "cell_type": "code",
   "execution_count": 43,
   "id": "58c1e92c",
   "metadata": {
    "scrolled": false
   },
   "outputs": [
    {
     "data": {
      "text/plain": [
       "{'id': 'rd7kfekcpn-3db3-4328-8bdf-e039f4311b24',\n",
       " 'language_model': 'assemblyai_default',\n",
       " 'acoustic_model': 'assemblyai_default',\n",
       " 'language_code': 'en_us',\n",
       " 'status': 'completed',\n",
       " 'audio_url': 'https://cdn.assemblyai.com/upload/d5c3f9ba-5829-4483-a5d8-2668f00bcd1a',\n",
       " 'text': 'So this product is actually very good because, like, it counters to the needs of the customers.',\n",
       " 'words': [{'text': 'So',\n",
       "   'start': 1050,\n",
       "   'end': 1358,\n",
       "   'confidence': 0.81158,\n",
       "   'speaker': None},\n",
       "  {'text': 'this',\n",
       "   'start': 1444,\n",
       "   'end': 1742,\n",
       "   'confidence': 0.99357,\n",
       "   'speaker': None},\n",
       "  {'text': 'product',\n",
       "   'start': 1796,\n",
       "   'end': 2110,\n",
       "   'confidence': 0.99449,\n",
       "   'speaker': None},\n",
       "  {'text': 'is',\n",
       "   'start': 2180,\n",
       "   'end': 2414,\n",
       "   'confidence': 0.97798,\n",
       "   'speaker': None},\n",
       "  {'text': 'actually',\n",
       "   'start': 2452,\n",
       "   'end': 2798,\n",
       "   'confidence': 0.99333,\n",
       "   'speaker': None},\n",
       "  {'text': 'very',\n",
       "   'start': 2884,\n",
       "   'end': 3182,\n",
       "   'confidence': 0.99582,\n",
       "   'speaker': None},\n",
       "  {'text': 'good',\n",
       "   'start': 3236,\n",
       "   'end': 3742,\n",
       "   'confidence': 0.99896,\n",
       "   'speaker': None},\n",
       "  {'text': 'because,',\n",
       "   'start': 3876,\n",
       "   'end': 4270,\n",
       "   'confidence': 0.9959,\n",
       "   'speaker': None},\n",
       "  {'text': 'like,',\n",
       "   'start': 4340,\n",
       "   'end': 4574,\n",
       "   'confidence': 0.43692,\n",
       "   'speaker': None},\n",
       "  {'text': 'it',\n",
       "   'start': 4612,\n",
       "   'end': 4862,\n",
       "   'confidence': 0.94229,\n",
       "   'speaker': None},\n",
       "  {'text': 'counters',\n",
       "   'start': 4916,\n",
       "   'end': 5306,\n",
       "   'confidence': 0.61744,\n",
       "   'speaker': None},\n",
       "  {'text': 'to',\n",
       "   'start': 5338,\n",
       "   'end': 5486,\n",
       "   'confidence': 0.99,\n",
       "   'speaker': None},\n",
       "  {'text': 'the',\n",
       "   'start': 5508,\n",
       "   'end': 5598,\n",
       "   'confidence': 0.99,\n",
       "   'speaker': None},\n",
       "  {'text': 'needs',\n",
       "   'start': 5604,\n",
       "   'end': 5822,\n",
       "   'confidence': 0.98344,\n",
       "   'speaker': None},\n",
       "  {'text': 'of',\n",
       "   'start': 5876,\n",
       "   'end': 6046,\n",
       "   'confidence': 1.0,\n",
       "   'speaker': None},\n",
       "  {'text': 'the',\n",
       "   'start': 6068,\n",
       "   'end': 6206,\n",
       "   'confidence': 0.98,\n",
       "   'speaker': None},\n",
       "  {'text': 'customers.',\n",
       "   'start': 6228,\n",
       "   'end': 6300,\n",
       "   'confidence': 0.9402,\n",
       "   'speaker': None}],\n",
       " 'utterances': None,\n",
       " 'confidence': 0.920112941176471,\n",
       " 'audio_duration': 8,\n",
       " 'punctuate': True,\n",
       " 'format_text': True,\n",
       " 'dual_channel': None,\n",
       " 'webhook_url': None,\n",
       " 'webhook_status_code': None,\n",
       " 'webhook_auth': False,\n",
       " 'webhook_auth_header_name': None,\n",
       " 'speed_boost': False,\n",
       " 'auto_highlights_result': None,\n",
       " 'auto_highlights': False,\n",
       " 'audio_start_from': None,\n",
       " 'audio_end_at': None,\n",
       " 'word_boost': [],\n",
       " 'boost_param': None,\n",
       " 'filter_profanity': False,\n",
       " 'redact_pii': False,\n",
       " 'redact_pii_audio': False,\n",
       " 'redact_pii_audio_quality': None,\n",
       " 'redact_pii_policies': None,\n",
       " 'redact_pii_sub': None,\n",
       " 'speaker_labels': False,\n",
       " 'content_safety': False,\n",
       " 'iab_categories': False,\n",
       " 'content_safety_labels': {'status': 'unavailable',\n",
       "  'results': [],\n",
       "  'summary': {}},\n",
       " 'iab_categories_result': {'status': 'unavailable',\n",
       "  'results': [],\n",
       "  'summary': {}},\n",
       " 'language_detection': False,\n",
       " 'custom_spelling': None,\n",
       " 'cluster_id': None,\n",
       " 'throttled': None,\n",
       " 'auto_chapters': False,\n",
       " 'summarization': False,\n",
       " 'summary_type': None,\n",
       " 'summary_model': None,\n",
       " 'disfluencies': False,\n",
       " 'sentiment_analysis': 'True',\n",
       " 'chapters': None,\n",
       " 'sentiment_analysis_results': [{'text': 'So this product is actually very good because, like, it counters to the needs of the customers.',\n",
       "   'start': 1050,\n",
       "   'end': 6300,\n",
       "   'sentiment': 'POSITIVE',\n",
       "   'confidence': 0.9723249673843384,\n",
       "   'speaker': None}],\n",
       " 'entity_detection': False,\n",
       " 'entities': None,\n",
       " 'summary': None}"
      ]
     },
     "execution_count": 43,
     "metadata": {},
     "output_type": "execute_result"
    }
   ],
   "source": [
    "response.json()"
   ]
  },
  {
   "cell_type": "code",
   "execution_count": null,
   "id": "e8bc008a",
   "metadata": {},
   "outputs": [],
   "source": []
  },
  {
   "cell_type": "code",
   "execution_count": null,
   "id": "cef4ed7f",
   "metadata": {},
   "outputs": [],
   "source": []
  },
  {
   "cell_type": "code",
   "execution_count": null,
   "id": "9d21e4c4",
   "metadata": {},
   "outputs": [],
   "source": []
  }
 ],
 "metadata": {
  "kernelspec": {
   "display_name": "Python 3 (ipykernel)",
   "language": "python",
   "name": "python3"
  },
  "language_info": {
   "codemirror_mode": {
    "name": "ipython",
    "version": 3
   },
   "file_extension": ".py",
   "mimetype": "text/x-python",
   "name": "python",
   "nbconvert_exporter": "python",
   "pygments_lexer": "ipython3",
   "version": "3.9.7"
  }
 },
 "nbformat": 4,
 "nbformat_minor": 5
}
